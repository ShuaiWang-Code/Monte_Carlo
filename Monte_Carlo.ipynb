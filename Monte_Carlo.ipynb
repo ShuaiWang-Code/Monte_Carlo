{
 "cells": [
  {
   "cell_type": "markdown",
   "metadata": {},
   "source": [
    "#首先看一个经典的用蒙特卡洛方法求 $π$ 值。\n",
    "#简单介绍下思路： \n",
    "#正方形内部有一个相切的圆，它们的面积之比是 $π/4$ 。现在，在这个正方形内部，随机产生$n$个点，计算它们与中心点的距离，并且判断是否落在圆的内部。\n",
    "#若这些点均匀分布，则圆周率 $pi = 4 * count / n$, 其中 $count$ 表示落到圆内投点数 $n:$表示总的投点数。"
   ]
  },
  {
   "cell_type": "code",
   "execution_count": 5,
   "metadata": {},
   "outputs": [],
   "source": [
    "import random\n",
    "\n",
    "\n",
    "def calpai():\n",
    "    n = 1000000\n",
    "    r = 1.0\n",
    "    a, b = (0.0, 0.0)\n",
    "    x_neg, x_pos = a - r, a + r\n",
    "    y_neg, y_pos = b - r, b + r\n",
    "\n",
    "    count = 0.0\n",
    "    for i in range(0, n):\n",
    "        x = random.uniform(x_neg, x_pos)\n",
    "        y = random.uniform(y_neg, y_pos)\n",
    "        if x*x + y*y <= 1.0:\n",
    "            count += 1\n",
    "\n",
    "    result = (count / float(n)) * 4\n",
    "    print (\"result is \",result)"
   ]
  },
  {
   "cell_type": "code",
   "execution_count": 6,
   "metadata": {},
   "outputs": [
    {
     "name": "stdout",
     "output_type": "stream",
     "text": [
      "result is  3.14108\n"
     ]
    }
   ],
   "source": [
    "calpai()"
   ]
  },
  {
   "cell_type": "markdown",
   "metadata": {},
   "source": [
    "#假设我们想求$\\int_0^1 x^2 dx$的值。具体代码如下:\n",
    "#($x*x > y$，表示该点位于曲线的下面。所求的积分值即为曲线下方的面积与正方形面积的比。)"
   ]
  },
  {
   "cell_type": "code",
   "execution_count": 7,
   "metadata": {},
   "outputs": [],
   "source": [
    "import random\n",
    "\n",
    "def zero2onetox2():\n",
    "    n = 1000000\n",
    "    x_min,x_max = 0.0,1.0\n",
    "    y_min,y_max = 0.0,1.0\n",
    "    count = 0\n",
    "    \n",
    "    for i in range(0,n):\n",
    "        x = random.uniform(x_min,x_max)\n",
    "        y = random.uniform(y_min,y_max)\n",
    "        \n",
    "        if x*x >= y:\n",
    "            count += 1\n",
    "            \n",
    "    result = count / float(n)\n",
    "    \n",
    "    print(\"result is \",result)"
   ]
  },
  {
   "cell_type": "code",
   "execution_count": 8,
   "metadata": {},
   "outputs": [
    {
     "name": "stdout",
     "output_type": "stream",
     "text": [
      "result is  0.33355\n"
     ]
    }
   ],
   "source": [
    "zero2onetox2()"
   ]
  }
 ],
 "metadata": {
  "kernelspec": {
   "display_name": "Python [conda env:py3]",
   "language": "python",
   "name": "conda-env-py3-py"
  },
  "language_info": {
   "codemirror_mode": {
    "name": "ipython",
    "version": 3
   },
   "file_extension": ".py",
   "mimetype": "text/x-python",
   "name": "python",
   "nbconvert_exporter": "python",
   "pygments_lexer": "ipython3",
   "version": "3.7.3"
  }
 },
 "nbformat": 4,
 "nbformat_minor": 2
}
